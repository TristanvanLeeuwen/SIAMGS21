{
 "cells": [
  {
   "cell_type": "markdown",
   "metadata": {
    "slideshow": {
     "slide_type": "slide"
    }
   },
   "source": [
    "# A Bayesian Perspective on Extended Full Waveform Inversion\n",
    "\n",
    "Tristan van Leeuwen[^1],[^2] and Yuzhao Lin[^3]\n",
    "\n",
    "[^1]: Utrecht University, the Netherlands.\n",
    "[^2]: Centrum Wiskunde en Informatica, the Netherlands.\n",
    "[^3]: China University of Petroleum."
   ]
  },
  {
   "cell_type": "markdown",
   "metadata": {
    "slideshow": {
     "slide_type": "subslide"
    }
   },
   "source": [
    "![](figures/Slide5.png)"
   ]
  },
  {
   "cell_type": "markdown",
   "metadata": {
    "slideshow": {
     "slide_type": "slide"
    }
   },
   "source": [
    "# Overview\n",
    "\n",
    "* Formulation\n",
    "* Algorithms\n",
    "* Numerical examples"
   ]
  },
  {
   "cell_type": "markdown",
   "metadata": {
    "slideshow": {
     "slide_type": "slide"
    }
   },
   "source": [
    "# Formulation"
   ]
  },
  {
   "cell_type": "markdown",
   "metadata": {
    "slideshow": {
     "slide_type": "subslide"
    }
   },
   "source": [
    "We use the following process and measurement models\n",
    "\n",
    "$$d = Pu + \\epsilon, \\quad \\epsilon \\sim \\mathcal{N}(0,\\Sigma_m),$$\n",
    "\n",
    "$$A(m)u = q + \\eta, \\quad \\eta \\sim \\mathcal{N}(0,\\Sigma_p),$$\n",
    "\n",
    "where \n",
    "\n",
    "* $P$ is the sampling operator\n",
    "* $A(m)$ represents the PDE with coefficients $m$\n",
    "* $q$ represents the source"
   ]
  },
  {
   "cell_type": "markdown",
   "metadata": {
    "slideshow": {
     "slide_type": "subslide"
    }
   },
   "source": [
    "This leads to a MAP estimation problem\n",
    "\n",
    "$$\\min_{m,u} \\textstyle{\\frac{1}{2}}\\|Pu - d\\|_{\\Sigma_m}^2 + \\textstyle{\\frac{1}{2}}\\|A(m)u - q\\|_{\\Sigma_p}^2.$$"
   ]
  },
  {
   "cell_type": "markdown",
   "metadata": {
    "slideshow": {
     "slide_type": "fragment"
    }
   },
   "source": [
    "or equivalently,\n",
    "\n",
    "$$\\min_{m,f}  \\textstyle{\\frac{1}{2}}\\|PA(m)^{-1}(q + f) - d\\|_{\\Sigma_m}^2 + \\textstyle{\\frac{1}{2}}\\|f\\|_{\\Sigma_p}^2.$$"
   ]
  },
  {
   "cell_type": "markdown",
   "metadata": {
    "slideshow": {
     "slide_type": "fragment"
    }
   },
   "source": [
    "Various *extended source* arise by choosing $\\Sigma_p$ appropriately[^1],[^9].\n",
    "\n",
    "[^1]:Huang, Guanghui, Rami Nammour, and William W. Symes. \"Volume source-based extended waveform inversion.\" Geophysics 83.5 (2018): R369-R387.\n",
    "[^9]:Symes, William W., Huiyi Chen, and Susan E. Minkoff. \"Full-waveform inversion by source extension: Why it works.\" SEG Technical Program Expanded Abstracts 2020. Society of Exploration Geophysicists, 2020. 765-769."
   ]
  },
  {
   "cell_type": "markdown",
   "metadata": {
    "slideshow": {
     "slide_type": "subslide"
    }
   },
   "source": [
    "Advantages of these formulations include\n",
    "\n",
    "* Take in to account errors in the physics\n",
    "* Make inversion more robust to initialisation"
   ]
  },
  {
   "cell_type": "markdown",
   "metadata": {
    "slideshow": {
     "slide_type": "subslide"
    }
   },
   "source": [
    "## Conventional FWI\n",
    "\n",
    "![](figures/Slide1.png)[^2]\n",
    "\n",
    "[^2]:van Leeuwen, Tristan, and Felix J. Herrmann. \"A penalty method for PDE-constrained optimization in inverse problems.\" Inverse Problems 32.1 (2015): 015007."
   ]
  },
  {
   "cell_type": "markdown",
   "metadata": {
    "slideshow": {
     "slide_type": "subslide"
    }
   },
   "source": [
    "## Extended FWI\n",
    "\n",
    "![](figures/Slide2.png)"
   ]
  },
  {
   "cell_type": "markdown",
   "metadata": {
    "slideshow": {
     "slide_type": "slide"
    }
   },
   "source": [
    "# A reduced formulation"
   ]
  },
  {
   "cell_type": "markdown",
   "metadata": {
    "slideshow": {
     "slide_type": "subslide"
    }
   },
   "source": [
    "Since, the problem is quadratic in $u$ (or $f$), we can reduce the problem to[^3],[^4]\n",
    "\n",
    "$$\\min_{m} \\|PA(m)^{-1}q - d\\|_{\\Sigma(m)}^2,$$\n",
    "\n",
    "with \n",
    "\n",
    "\n",
    "$$\\Sigma(m) = \\Sigma_m + P(A(m)^*\\Sigma_p^{-1}A(m))^{-1}P^*.$$\n",
    "\n",
    "[^3]:van Leeuwen, Tristan. \"A note on extended full waveform inversion.\" arXiv preprint arXiv:1904.00363 (2019).\n",
    "[^4]:Fang, Zhilong, et al. \"Uncertainty quantification for inverse problems with weak partial-differential-equation constraints.\" Geophysics 83.6 (2018): R629-R647."
   ]
  },
  {
   "cell_type": "markdown",
   "metadata": {
    "slideshow": {
     "slide_type": "subslide"
    }
   },
   "source": [
    "The gradient of the corresponding objective can be computed via\n",
    "\n",
    "$$g = G(m,u_0)^*\\left(w_0 - v_0\\right),$$\n",
    "\n",
    "with\n",
    "\n",
    "* $G(m,u) = \\frac{\\partial A(m)u}{\\partial m},$\n",
    "* $u_0 = A(m)^{-1}q,$\n",
    "* $v_0 = A(m)^{-*}P^*\\Sigma(m)^{-1}(Pu_0 - d),$\n",
    "* $w_0 = A(m)^{-1}\\Sigma_p^{-1}v_0.$"
   ]
  },
  {
   "cell_type": "markdown",
   "metadata": {
    "slideshow": {
     "slide_type": "subslide"
    }
   },
   "source": [
    "![](figures/Slide3.png)"
   ]
  },
  {
   "cell_type": "markdown",
   "metadata": {
    "slideshow": {
     "slide_type": "subslide"
    }
   },
   "source": [
    "![](figures/Slide4.png)"
   ]
  },
  {
   "cell_type": "markdown",
   "metadata": {
    "slideshow": {
     "slide_type": "subslide"
    }
   },
   "source": [
    "![](figures/Slide5.png)"
   ]
  },
  {
   "cell_type": "markdown",
   "metadata": {
    "slideshow": {
     "slide_type": "slide"
    }
   },
   "source": [
    "# Algorithms\n",
    "\n",
    "The main tasks of a basic gradient-descent method are\n",
    "\n",
    "* Solving the forward PDE to compute the residual\n",
    "* Solving a deconvolution problem to weigh the residual\n",
    "* Solving an additional forward and adjoint PDE to compute the gradient"
   ]
  },
  {
   "cell_type": "markdown",
   "metadata": {
    "slideshow": {
     "slide_type": "subslide"
    }
   },
   "source": [
    "The deconvolution requires inverting\n",
    "\n",
    "$$\\Sigma(m) = \\Sigma_m + P(A(m)^*\\Sigma_p^{-1}A(m))^{-1}P^*.$$"
   ]
  },
  {
   "cell_type": "markdown",
   "metadata": {
    "slideshow": {
     "slide_type": "fragment"
    }
   },
   "source": [
    "* want to avoid forming and storing the full matrix\n",
    "* matvecs require additional PDE solves"
   ]
  },
  {
   "cell_type": "markdown",
   "metadata": {
    "slideshow": {
     "slide_type": "subslide"
    }
   },
   "source": [
    "We are free to choose $\\Sigma_p$, however, so why not choose\n",
    "\n",
    "$$\\Sigma_p^{-1} = ss^*,$$\n",
    "\n",
    "and invert $\\Sigma(m)$ using the Sherman-Morrison identity?\n",
    "\n",
    "$$\\Sigma(m)^{-1} = \\Sigma_m^{-1} - \\frac{\\Sigma_m^{-1} zz^* \\Sigma_m^{-1}}{1 + z^*\\Sigma_m^{-1}z},$$\n",
    "\n",
    "with $z = PA(m)^{-1}s.$"
   ]
  },
  {
   "cell_type": "markdown",
   "metadata": {
    "slideshow": {
     "slide_type": "subslide"
    }
   },
   "source": [
    "* $s = \\alpha \\cdot q$ for computational convenience\n",
    "* $s_i = \\alpha\\cdot \\|x_i - x_s\\|_2$ to emulate source-extension annihilator\n",
    "* ..."
   ]
  },
  {
   "cell_type": "markdown",
   "metadata": {
    "slideshow": {
     "slide_type": "slide"
    }
   },
   "source": [
    "# Numerical examples"
   ]
  },
  {
   "cell_type": "markdown",
   "metadata": {
    "slideshow": {
     "slide_type": "subslide"
    }
   },
   "source": [
    "![](figures/Slide6.png)"
   ]
  },
  {
   "cell_type": "markdown",
   "metadata": {
    "slideshow": {
     "slide_type": "subslide"
    }
   },
   "source": [
    "![](figures/Slide7.png)"
   ]
  },
  {
   "cell_type": "markdown",
   "metadata": {
    "slideshow": {
     "slide_type": "slide"
    }
   },
   "source": [
    "# Summary and outlook\n",
    "\n",
    "Bayesian perspective on extended waveform inversion:\n",
    "\n",
    "* Connections to various other extensions\n",
    "* Efficient implementations in the time-domain\n",
    "* Explore connections to data-driven approaches"
   ]
  },
  {
   "cell_type": "markdown",
   "metadata": {
    "slideshow": {
     "slide_type": "subslide"
    }
   },
   "source": [
    "## Other extensions\n",
    "\n",
    "* Source extensions\n",
    "* Contrast source[^1]\n",
    "* Adaptive Waveform Inversion[^2]\n",
    "* ...\n",
    "\n",
    "[^1]:Van Den Berg, Peter M., and Ralph E. Kleinman. \"A contrast source inversion method.\" Inverse problems 13.6 (1997): 1607.\n",
    "[^2]:Warner, Michael, and Lluís Guasch. \"Adaptive waveform inversion: Theory.\" Geophysics 81.6 (2016): R429-R445."
   ]
  },
  {
   "cell_type": "markdown",
   "metadata": {
    "slideshow": {
     "slide_type": "subslide"
    }
   },
   "source": [
    "## Time-domain\n",
    "Apply these methods in the time-domain remains challenging. Some approaches are based on solving\n",
    "\n",
    "$$\\left(A^*\\!A + \\rho^{-1}P^*\\!P\\right)u = A^*q + \\rho^{-1}P^*d.$$\n",
    "\n",
    "* Preconditioned iterative approach[^5],[^6]\n",
    "* A dual formulation[^7]\n",
    "* Approximating the solution for large $\\rho$[^8]\n",
    "* Neural Networks[^9]\n",
    "\n",
    "[^5]:van Leeuwen, Tristan, Peter Jan van Leeuwen, and Sergiy Zhuk. \"Data-Driven Modeling for Wave-Propagation.\" ENUMATH. 2019.\n",
    "\n",
    "[^6]:Aghamiry, Hossein S., Ali Gholami, and Stéphane Operto. \"Accurate and efficient data-assimilated wavefield reconstruction in the time domain.\" Geophysics 85.2 (2020): A7-A12.\n",
    "\n",
    "[^7]:Rizzuti, Gabrio, et al. \"A dual formulation for time-domain wavefield reconstruction inversion.\" SEG Technical Program Expanded Abstracts 2019. Society of Exploration Geophysicists, 2019. 1480-1485.\n",
    "\n",
    "[^8]:Li, Zhen-Chun, et al. \"Time-domain wavefield reconstruction inversion.\" Applied Geophysics 14.4 (2017): 523-528.\n",
    "\n",
    "[^9]:Song, Chao, and Tariq Alkhalifah. \"Wavefield reconstruction inversion via physics-informed neural networks.\" arXiv preprint arXiv:2104.06897 (2021).\n"
   ]
  },
  {
   "cell_type": "markdown",
   "metadata": {
    "slideshow": {
     "slide_type": "subslide"
    }
   },
   "source": [
    "## Inverse scattering\n",
    "\n",
    "* The joint approach estimates the wavefield and parameters in an alternating fashion\n",
    "* Alternative approaches to estimating the full wavefield from partial data are available[^2],[^1]\n",
    "* Can we combine these approaches?\n",
    "\n",
    "[^2]:Diekmann, Leon, and Ivan Vasconcelos. \"Imaging with the exact linearised Lippmann-Schwinger integral by means of redatumed in-volume wavefields.\" SEG Technical Program Expanded Abstracts 2020. Society of Exploration Geophysicists, 2020. 3598-3602.\n",
    "\n",
    "[^1]:Druskin, Vladimir, Shari Moskow, and Mikhail Zaslavsky. \"Lippmann-Schwinger-Lanczos algorithm for inverse scattering problems.\" Inverse Problems (2021).\n"
   ]
  },
  {
   "cell_type": "markdown",
   "metadata": {
    "slideshow": {
     "slide_type": "subslide"
    }
   },
   "source": [
    "\n",
    "# Thanks for your attention"
   ]
  }
 ],
 "metadata": {
  "celltoolbar": "Slideshow",
  "kernelspec": {
   "display_name": "Python 3",
   "language": "python",
   "name": "python3"
  },
  "language_info": {
   "codemirror_mode": {
    "name": "ipython",
    "version": 3
   },
   "file_extension": ".py",
   "mimetype": "text/x-python",
   "name": "python",
   "nbconvert_exporter": "python",
   "pygments_lexer": "ipython3",
   "version": "3.7.6"
  }
 },
 "nbformat": 4,
 "nbformat_minor": 4
}
